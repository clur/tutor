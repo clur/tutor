{
 "metadata": {
  "name": "Chapter 4 - Programming principles"
 },
 "nbformat": 3,
 "nbformat_minor": 0,
 "worksheets": [
  {
   "cells": [
    {
     "cell_type": "heading",
     "level": 1,
     "metadata": {},
     "source": [
      "Chapter 4: Programming Principles"
     ]
    },
    {
     "cell_type": "markdown",
     "metadata": {},
     "source": [
      "-- *A Python Course for the Humanities by Folgert Karsdorp and Maarten van Gompel*"
     ]
    },
    {
     "cell_type": "heading",
     "level": 2,
     "metadata": {},
     "source": [
      "#1 Think modular"
     ]
    },
    {
     "cell_type": "markdown",
     "metadata": {},
     "source": [
      "If you have a particular problem, divide it into subproblems and solve them separately. Always make use of functions and in a large project, divide your code into separate modules.\n"
     ]
    },
    {
     "cell_type": "heading",
     "level": 2,
     "metadata": {},
     "source": [
      "#2 Do not repeat yourself & try to think of generic solutions"
     ]
    },
    {
     "cell_type": "markdown",
     "metadata": {},
     "source": [
      "Very much connected to the previous tip; if you find yourself copy pasting a large block of code and making only very minor adjustments, then you can probably turn that code into a more generic function.\n",
      "\n",
      "Look at these four code snippets with the exact same results; from very bad to best:\n"
     ]
    },
    {
     "cell_type": "code",
     "collapsed": false,
     "input": [
      "print(\"I shall not repeat myself!\")\n",
      "print(\"I shall not repeat myself!\")\n",
      "print(\"I shall not repeat myself!\")\n",
      "print(\"I shall not repeat myself!\")\n",
      "print(\"I shall not repeat myself!\")\n",
      "print(\"I shall not repeat myself!\")\n",
      "print(\"I shall not repeat myself!\")\n",
      "print(\"I shall not repeat myself!\")\n",
      "print(\"I shall not repeat myself!\")\n",
      "print(\"I shall not repeat myself!\")\n",
      "\n",
      "print(\"I will think of generic solutions!\")\n",
      "print(\"I will think of generic solutions!\")\n",
      "print(\"I will think of generic solutions!\")\n",
      "print(\"I will think of generic solutions!\")\n",
      "print(\"I will think of generic solutions!\")\n",
      "print(\"I will think of generic solutions!\")\n",
      "print(\"I will think of generic solutions!\")\n",
      "print(\"I will think of generic solutions!\")\n",
      "print(\"I will think of generic solutions!\")\n",
      "print(\"I will think of generic solutions!\")\n",
      "\n",
      "print(\"I will be a great programmer!\")\n",
      "print(\"I will be a great programmer!\")\n",
      "print(\"I will be a great programmer!\")\n",
      "print(\"I will be a great programmer!\")\n",
      "print(\"I will be a great programmer!\")\n",
      "print(\"I will be a great programmer!\")\n",
      "print(\"I will be a great programmer!\")\n",
      "print(\"I will be a great programmer!\")\n",
      "print(\"I will be a great programmer!\")\n",
      "print(\"I will be a great programmer!\")\n"
     ],
     "language": "python",
     "metadata": {},
     "outputs": []
    },
    {
     "cell_type": "markdown",
     "metadata": {},
     "source": [
      "Better:"
     ]
    },
    {
     "cell_type": "code",
     "collapsed": false,
     "input": [
      "for i in range(0,10):\n",
      "    print(\"I shall not repeat myself!\")\n",
      "    \n",
      "for i in range(0,10):\n",
      "    print(\"I will think of generic solutions!\")\n",
      "\n",
      "for i in range(0,10):\n",
      "    print(\"I will be a great programmer!\")\n"
     ],
     "language": "python",
     "metadata": {},
     "outputs": []
    },
    {
     "cell_type": "markdown",
     "metadata": {},
     "source": [
      "Better:"
     ]
    },
    {
     "cell_type": "code",
     "collapsed": false,
     "input": [
      "\n",
      "\n",
      "def say10times(message):\n",
      "    for i in range(0,10):\n",
      "        print(message)\n",
      "    \n",
      "say10times(\"I shall not repeat myself!\")\n",
      "say10times(\"I will think of generic solutions!\")\n",
      "say10times(\"I will be a great programmer!\")"
     ],
     "language": "python",
     "metadata": {},
     "outputs": []
    },
    {
     "cell_type": "markdown",
     "metadata": {},
     "source": [
      "Best:\n",
      "    "
     ]
    },
    {
     "cell_type": "code",
     "collapsed": false,
     "input": [
      "def sayxtimes(message, x):\n",
      "    for i in range(0,x):\n",
      "        print(message)\n",
      "    \n",
      "sayxtimes(\"I shall not repeat myself!\",10)\n",
      "sayxtimes(\"I will think of generic solutions!\",10)\n",
      "sayxtimes(\"I will be a great programmer!\",10)"
     ],
     "language": "python",
     "metadata": {},
     "outputs": []
    },
    {
     "cell_type": "heading",
     "level": 2,
     "metadata": {},
     "source": [
      "#3 Think procedurally -- Step by step"
     ]
    },
    {
     "cell_type": "markdown",
     "metadata": {},
     "source": [
      "Try to think like the interpreter processing your code; everything step by step, one line at a time. The interpreter will never magically know what you mean with a piece of code, you have to explicitly consider what you want to do in each step along the way\n"
     ]
    },
    {
     "cell_type": "heading",
     "level": 2,
     "metadata": {},
     "source": [
      "#4 Choose sane variable and function names"
     ]
    },
    {
     "cell_type": "markdown",
     "metadata": {},
     "source": [
      "Naming your variables and function with meaningful names is important. Otherwise you will find you can't read your code anymore. From the interpreter's point of view, the names are irrelevant, but from a human point of view, they are very important!! Compare the following code two snippets, which are equivalent in functionality but not in naming. It's hard to figure out what the program does by looking only at the first one right?\n"
     ]
    },
    {
     "cell_type": "code",
     "collapsed": false,
     "input": [
      "a = \"To be or not to be , that is the question\"\n",
      "b = a.split(' ')\n",
      "c = []\n",
      "for x in b:\n",
      "    c.append(len(x))\n",
      "r = sum(c) / len(c)\n",
      "print(r)    "
     ],
     "language": "python",
     "metadata": {},
     "outputs": []
    },
    {
     "cell_type": "code",
     "collapsed": false,
     "input": [
      "sentence = \"To be or not to be , that is the question\"\n",
      "words = sentence.split(' ')\n",
      "wordlengths = []\n",
      "for word in words:\n",
      "    wordlengths.append(len(word))\n",
      "averagewordlength = sum(wordlengths) / len(wordlengths)\n",
      "print(averagewordlength)    "
     ],
     "language": "python",
     "metadata": {},
     "outputs": []
    },
    {
     "cell_type": "heading",
     "level": 2,
     "metadata": {},
     "source": [
      "#5 Comment your code"
     ]
    },
    {
     "cell_type": "markdown",
     "metadata": {},
     "source": [
      "Always add comments to your code to facilitate readability and understanding! "
     ]
    },
    {
     "cell_type": "heading",
     "level": 2,
     "metadata": {},
     "source": [
      "#6 Anticipate errors"
     ]
    },
    {
     "cell_type": "markdown",
     "metadata": {},
     "source": [
      "Anticipate what can go wrong. Especially where user input is concerned. Python, as most other languages, has facilities to catch errors in your code, and divert execution based on it. This is called exception handling. Errors that are uncaught will cause your program to exit with an error. Consider the following:"
     ]
    },
    {
     "cell_type": "code",
     "collapsed": false,
     "input": [
      "x = \"5\"\n",
      "try:\n",
      "    x = int(x)\n",
      "except ValueError:\n",
      "    print \"x was not a number!\""
     ],
     "language": "python",
     "metadata": {},
     "outputs": []
    },
    {
     "cell_type": "markdown",
     "metadata": {},
     "source": [
      "Try set x to a textual value and run again."
     ]
    },
    {
     "cell_type": "heading",
     "level": 2,
     "metadata": {},
     "source": [
      "#7 Don't be afraid to throw away code and start over"
     ]
    },
    {
     "cell_type": "markdown",
     "metadata": {},
     "source": [
      "Coding is often an evolutionary process, you may come to new insights as you progress and demands on your code may change as your program grows. Do not be afraid to throw parts of it away and redesign them."
     ]
    },
    {
     "cell_type": "heading",
     "level": 2,
     "metadata": {},
     "source": [
      "#8 Be elegant!"
     ]
    },
    {
     "cell_type": "markdown",
     "metadata": {},
     "source": [
      "Try to write elegant code. Coding can be art! :-) Elegant code makes your code more readable and less prone to bugs. When you have found a solution to a particular problem, do not stop there but think about how you can make your code more generic, better understandable and conceptually easier. \n",
      "\n",
      "We want to give you an example of how to be elegant by showing you two versions of a program to transform an English word into Pig Latin. To translate an English word into Pig Latin we apply the following rules:\n",
      "\n",
      "-  If a word begins with a consonant or consonant cluster, remove that part from the beginning of the word and add it to the end of the word. Now to make it really latinish, add \"ay\" to this. E.g. *duck* - *uckday* and *bush* - *ushbay*.\n",
      "-  If a word starts with a vowel, simply add \"ay\" to the end of the word. E.g. *egg* - *eggay* and *inbox* - *inboxay*.\n",
      "\n",
      "To implement this translator we first write two helper functions and a variable containing all vowels:"
     ]
    },
    {
     "cell_type": "code",
     "collapsed": false,
     "input": [
      "VOWELS = 'aeiouAEIOU'\n",
      "\n",
      "def starts_with_vowel(word):\n",
      "    \"Does the word start with a vowel?\"5\n",
      "    return word[0] in VOWELS\n",
      "\n",
      "def add_ay(word):\n",
      "    \"Add 'ay' at the end of the word.\"\n",
      "    return word + 'ay'"
     ],
     "language": "python",
     "metadata": {},
     "outputs": []
    },
    {
     "cell_type": "markdown",
     "metadata": {},
     "source": [
      "The function `starts_with_vowel` takes a word and returns `True` or `False` depending on whether the word starts with a vowel. The second function, `add_ay` simply returns the word given as input and adds *ay* to it. \n",
      "\n",
      "Now we need a function that takes a word and converts it to latin. We'll start with the following solution:"
     ]
    },
    {
     "cell_type": "code",
     "collapsed": false,
     "input": [
      "def translate_imperative(word):\n",
      "    \"Convert a word to latin (imperative style).\"\n",
      "    start = 0\n",
      "    end = ''\n",
      "    for i, char in enumerate(word):\n",
      "        if char not in VOWELS:\n",
      "            end += char\n",
      "        else:\n",
      "            start = i\n",
      "            break # break out of the loop\n",
      "    return add_ay(word[start:] + end)"
     ],
     "language": "python",
     "metadata": {},
     "outputs": []
    },
    {
     "cell_type": "markdown",
     "metadata": {},
     "source": [
      "From just looking at this function it is hard to see what it is doing exactly. It loops of each character in `word` and for each character asks whether it is not a vowel (i.e. a consonant). If it is a consonant, we add it to the `end` variable which we will later append to the remaining word. While this is `True` we carry on to the next character. If we find a vowel, we store the index of that vowel and break from the loop. Now we return the word starting from the first vowel found, add the consonant or conconant cluster to it and send that word to our `add_ay` function.\n",
      "\n",
      "Okay, so this works, but it is not very readable, now is it? Now take a look at the following implementation:"
     ]
    },
    {
     "cell_type": "code",
     "collapsed": false,
     "input": [
      "def translate(word):\n",
      "    \"Convert a word to latin (recursive style).\"\n",
      "    if starts_with_vowel(word):\n",
      "        return add_ay(word)\n",
      "    return translate(word[1:] + word[0])"
     ],
     "language": "python",
     "metadata": {},
     "outputs": []
    },
    {
     "cell_type": "markdown",
     "metadata": {},
     "source": [
      "The first thing we notice is that this definition is much shorter. This function provides a recursive solution to our problem and can be read as follows: if the input word starts with a vowel, return the word and add *ay* to it. If it does not start with a vowel, move the first character to the end of the word and try to convert it once more. In our - perhaps subjective - opinion, the recursive solution provides a much more elegant solution to our problem."
     ]
    },
    {
     "cell_type": "heading",
     "level": 2,
     "metadata": {},
     "source": [
      "#9 Test"
     ]
    },
    {
     "cell_type": "markdown",
     "metadata": {},
     "source": [
      "Always test your code, things never go right the first time, not even for experienced programmers. Errors are part of the progress and no sign of failure! Always seek to clearly understand the message behind an error and then find a solution to it.\n",
      "It is also recommended to write little tests for functions, to assure they give the desired output given certain input.\n",
      "\n",
      "To debug your code, it often helps to insert some temporary explicity print statements along the way, outputting the value of certain variables. This can help you spot if things are really progressing the way they should."
     ]
    },
    {
     "cell_type": "heading",
     "level": 2,
     "metadata": {},
     "source": [
      "#10 Use library references, 3rd party modules, and google errors if you're stuck"
     ]
    },
    {
     "cell_type": "markdown",
     "metadata": {},
     "source": [
      "Programmers never know all functions in their language by heart. Part of the art of programming is knowing where to look and how to read library references. Library references describe what functions etc. exist in what modules, what parameters they take, and what values they return. Use these references! For Python, just start at http://www.python.org !\n",
      "\n",
      "Chances are also high that someone has already done what you want, or at least solved one of your subproblems, and made a module for it which you can use! Here is a small list of modules that might be interesting for you:\n",
      "\n",
      "- [NLTK](http://www.nltk.org). Provides a nice introduction into programming with Python and an introduction into Natural Language Processing.\n",
      "\n",
      "- [PyNLPl](http://github.com/proycon/pynlpl). Library for Natural Language Processing, written by Maarten van Gompel. Contains a lot of modules for dealing with text, specific formats encountered in the field, and interfacing with other external NLP software. All of the things we did in chapter three are readily available in PyNLPl. \n",
      "\n",
      "- [Scikit-learn](http://www.scikit-learn.org) (not yet for Python 3): Easy-to-use and general-purpose machine learning in Python. Provides many implementations of machine learning algorithms, such as Support Vector Machines, Naive Bayes Classifiers, supervised and unsupervised cluster analysis and many more.\n",
      "\n",
      "- [Networkx](http://networkx.github.com) (not yet for Python 3): NetworkX is a Python language software package for the creation, manipulation, and study of the structure, dynamics, and functions of complex networks. Supports many output formats that can be imported by e.g. gephi.\n",
      "\n",
      "- [gensim](http://radimrehurek.com/gensim/): Topic modelling for humans. Good and easy to use library for many topic modelling algorithms, such as LSA and LDA.\n",
      "\n",
      "- [Pattern](http://www.clips.ua.ac.be/pages/pattern) (not yet for Python 3): general Natural Language Processing library with support for Dutch and English part of speech tagging.\n",
      "\n",
      "- [Numpy](http://www.numpy.org): fundamental package for scientific computing with Python. It contains among other things:\n",
      "\n",
      "  -  a powerful N-dimensional array object\n",
      "  -  sophisticated (broadcasting) functions\n",
      "  -  tools for integrating C/C++ and Fortran code\n",
      "  -  useful linear algebra, Fourier transform, and random number capabilities\n",
      "\n",
      "- [Scipy](http://www.scipy.org/): open-source software for mathematics, science, and engineering. Very good and fast library for all kinds of scientific computations, cluster analysis etc.\n",
      "\n",
      "- [Matplotlib](http://matplotlib.org/): Python plotting library which produces publication quality figures in a variety of hardcopy formats and interactive environments across platforms. \n",
      "\n",
      "- [lxml](http://www.lxml.de/): Extensive library for processing XML files in Python.\n",
      "\n",
      "- [Django](http://www.djangoproject.com/): Interested in full fledged web-development? Django is an amazing open-source framework for Python that allows you to make complex web applications."
     ]
    },
    {
     "cell_type": "markdown",
     "metadata": {},
     "source": [
      "Moreover, we would like to encourage you to always open your source code and share it with others. This principle is called *open source* and allows others to use and learn from your code. Especially in the sciences, such a transparency is vital for reproducability and for building upon eachother's work. The Python language itself is fully open-source, as it the Linux operating system, and tens of thousands of other software packages!"
     ]
    },
    {
     "cell_type": "markdown",
     "metadata": {},
     "source": [
      "---"
     ]
    },
    {
     "cell_type": "markdown",
     "metadata": {},
     "source": [
      "Ignore the following, it's just here to make the page pretty:"
     ]
    },
    {
     "cell_type": "code",
     "collapsed": false,
     "input": [
      "Interested in full fledged web-development? Django is an amazing open-source framework for Python that allows you to make complex web applications.from IPython.core.display import HTML\n",
      "def css_styling():\n",
      "    styles = open(\"styles/custom.css\", \"r\").read()\n",
      "    return HTML(styles)\n",
      "css_styling()"
     ],
     "language": "python",
     "metadata": {},
     "outputs": [
      {
       "html": [
        "<style>\n",
        "    @font-face {\n",
        "        font-family: \"Computer Modern\";\n",
        "        src: url('http://mirrors.ctan.org/fonts/cm-unicode/fonts/otf/cmunss.otf');\n",
        "    }\n",
        "    div.cell {\n",
        "        width:800px;\n",
        "        margin-left:auto;\n",
        "        margin-right:auto;\n",
        "    }\n",
        "    div.cell, .input.hbox {\n",
        "    display:block;\n",
        "}\n",
        "    h1 {\n",
        "        font-family: \"Charis SIL\", Palatino, serif;\n",
        "    }\n",
        "    h4{\n",
        "        margin-top:12px;\n",
        "        margin-bottom: 3px;\n",
        "       }\n",
        "    div.text_cell_render{\n",
        "        font-family: Computer Modern, \"Helvetica Neue\", Arial, Helvetica, Geneva, sans-serif;\n",
        "        line-height: 145%;\n",
        "        font-size: 120%;\n",
        "        width:800px;\n",
        "        margin-left:auto;\n",
        "        margin-right:auto;\n",
        "    }\n",
        "    .CodeMirror{\n",
        "            font-family: \"Source Code Pro\", source-code-pro,Consolas, monospace;\n",
        "    }\n",
        "    .prompt{\n",
        "        display: None;\n",
        "    }\n",
        "    .text_cell_render h5 {\n",
        "        font-weight: 300;\n",
        "        font-size: 16pt;\n",
        "        color: #4057A1;\n",
        "        font-style: italic;\n",
        "        margin-bottom: .5em;\n",
        "        margin-top: 0.5em;\n",
        "        display: block;\n",
        "    }\n",
        "    \n",
        "    .warning{\n",
        "        color: rgb( 240, 20, 20 )\n",
        "        }\n",
        "</style>\n",
        "<script>\n",
        "    MathJax.Hub.Config({\n",
        "                        TeX: {\n",
        "                           extensions: [\"AMSmath.js\"]\n",
        "                           },\n",
        "                tex2jax: {\n",
        "                    inlineMath: [ ['$','$'], [\"\\\\(\",\"\\\\)\"] ],\n",
        "                    displayMath: [ ['$$','$$'], [\"\\\\[\",\"\\\\]\"] ]\n",
        "                },\n",
        "                displayAlign: 'center', // Change this to 'center' to center equations.\n",
        "                \"HTML-CSS\": {\n",
        "                    styles: {'.MathJax_Display': {\"margin\": 4}}\n",
        "                }\n",
        "        });\n",
        "</script>"
       ],
       "output_type": "pyout",
       "prompt_number": 1,
       "text": [
        "<IPython.core.display.HTML at 0x103243390>"
       ]
      }
     ],
     "prompt_number": 1
    },
    {
     "cell_type": "markdown",
     "metadata": {},
     "source": [
      "by Folgert Karsdorp (Meertens Instituut) en Maarten van Gompel (Radboud University Nijmegen)\n",
      "\n",
      "Licensed under the [GNU Free Documentation License](http://www.gnu.org/copyleft/fdl.html)"
     ]
    }
   ],
   "metadata": {}
  }
 ]
}