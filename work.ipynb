{
 "metadata": {
  "name": "work"
 },
 "nbformat": 3,
 "nbformat_minor": 0,
 "worksheets": [
  {
   "cells": [
    {
     "cell_type": "heading",
     "level": 1,
     "metadata": {},
     "source": [
      "Code for work"
     ]
    },
    {
     "cell_type": "markdown",
     "metadata": {},
     "source": [
      "Below code finds collocations using nltk from raw data file."
     ]
    },
    {
     "cell_type": "code",
     "collapsed": false,
     "input": [
      "import nltk\n",
      "from nltk.metrics import TrigramAssocMeasures\n",
      "from nltk.collocations import TrigramCollocationFinder\n",
      "from nltk.corpus import stopwords\n",
      "\n",
      "data=open('/Users/claire/Desktop/Raw data GAA 2013.csv').read().split('\\r')\n",
      "data=[i.split(',') for i in data]\n",
      "suggestions=[i[-6].split() for i in data if i[-6]!='']\n",
      "words=sum(suggestions,[])\n",
      "\n",
      "#collocations finder code\n",
      "stopset = set(stopwords.words('english'))\n",
      "filter_stops = lambda w: len(w) < 2 or w in stopset\n",
      "tcf = TrigramCollocationFinder.from_words(words)\n",
      "tcf.apply_word_filter(filter_stops)\n",
      "#tcf.apply_freq_filter(2)\n",
      "tcf.nbest(TrigramAssocMeasures.likelihood_ratio, 20)\n"
     ],
     "language": "python",
     "metadata": {},
     "outputs": [
      {
       "output_type": "pyout",
       "prompt_number": 15,
       "text": [
        "[('fixtures', 'get', 'results'),\n",
        " ('find', 'match', 'fixtures'),\n",
        " ('find', 'championship', 'results'),\n",
        " ('find', 'upcoming', 'fixtures'),\n",
        " ('find', 'find', 'latest'),\n",
        " ('find', 'latest', 'results'),\n",
        " ('fixtures', 'The', 'website'),\n",
        " ('know', 'fixtures', 'results'),\n",
        " ('results', 'section', 'would'),\n",
        " ('match', 'results', 'would'),\n",
        " ('find', 'minor', 'fixtures'),\n",
        " ('find', 'fixtures', 'clearly'),\n",
        " ('find', 'fixtures', 'via'),\n",
        " ('results', 'section', 'easier'),\n",
        " ('find', 'Latest', 'fixtures'),\n",
        " ('find', 'fixtures', '(listed'),\n",
        " ('find', 'fixtures', 'also.\"'),\n",
        " ('find', 'fixtures', 'u21\"'),\n",
        " ('fixtures', 'results', 'a0nd'),\n",
        " ('get', 'live', 'results')]"
       ]
      }
     ],
     "prompt_number": 15
    },
    {
     "cell_type": "code",
     "collapsed": false,
     "input": [
      "print stopset"
     ],
     "language": "python",
     "metadata": {},
     "outputs": [
      {
       "output_type": "stream",
       "stream": "stdout",
       "text": [
        "set(['all', 'just', 'being', 'over', 'both', 'through', 'yourselves', 'its', 'before', 'herself', 'had', 'should', 'to', 'only', 'under', 'ours', 'has', 'do', 'them', 'his', 'very', 'they', 'not', 'during', 'now', 'him', 'nor', 'did', 'this', 'she', 'each', 'further', 'where', 'few', 'because', 'doing', 'some', 'are', 'our', 'ourselves', 'out', 'what', 'for', 'while', 'does', 'above', 'between', 't', 'be', 'we', 'who', 'were', 'here', 'hers', 'by', 'on', 'about', 'of', 'against', 's', 'or', 'own', 'into', 'yourself', 'down', 'your', 'from', 'her', 'their', 'there', 'been', 'whom', 'too', 'themselves', 'was', 'until', 'more', 'himself', 'that', 'but', 'don', 'with', 'than', 'those', 'he', 'me', 'myself', 'these', 'up', 'will', 'below', 'can', 'theirs', 'my', 'and', 'then', 'is', 'am', 'it', 'an', 'as', 'itself', 'at', 'have', 'in', 'any', 'if', 'again', 'no', 'when', 'same', 'how', 'other', 'which', 'you', 'after', 'most', 'such', 'why', 'a', 'off', 'i', 'yours', 'so', 'the', 'having', 'once'])\n"
       ]
      }
     ],
     "prompt_number": 14
    }
   ],
   "metadata": {}
  }
 ]
}